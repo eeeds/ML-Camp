{
 "cells": [
  {
   "cell_type": "code",
   "execution_count": 1,
   "metadata": {},
   "outputs": [],
   "source": [
    "from matplotlib.font_manager import json_load\n",
    "import spotipy\n",
    "from spotipy.oauth2 import SpotifyClientCredentials\n",
    "import json \n",
    "import os \n",
    "\n",
    "os.environ['SPOTIPY_CLIENT_ID'] = json.load(open('../spotify_credentials.json'))['CLIENT_ID']\n",
    "os.environ['SPOTIPY_CLIENT_SECRET'] = json.load(open('../spotify_credentials.json'))['CLIENT_SECRET']\n",
    "\n",
    "birdy_uri = 'spotify:artist:4pejUc4iciQfgdX6OKulQn'\n",
    "spotify = spotipy.Spotify(client_credentials_manager=SpotifyClientCredentials())\n",
    "\n",
    "results = spotify.artist_albums(birdy_uri, album_type='album')\n",
    "albums = results['items']"
   ]
  },
  {
   "cell_type": "code",
   "execution_count": 8,
   "metadata": {},
   "outputs": [],
   "source": [
    "#Extract songs from each album\n",
    "songs = []\n",
    "for album in albums:\n",
    "    album_id = album['id']\n",
    "    album_name = album['name']\n",
    "    album_year = album['release_date']\n",
    "    album_tracks = spotify.album_tracks(album_id)\n",
    "    for track in album_tracks['items']:\n",
    "        song = {}\n",
    "        song['name'] = track['name']\n",
    "        song['id'] = track['id']\n",
    "        song['album'] = album_name\n",
    "        song['year'] = album_year\n",
    "        songs.append(song)"
   ]
  },
  {
   "cell_type": "code",
   "execution_count": 12,
   "metadata": {},
   "outputs": [],
   "source": [
    "# Extract audio features from songs\n",
    "features = []\n",
    "for song in songs:\n",
    "    song_id = song['id']\n",
    "    song_name = song['name']\n",
    "    song_album = song['album']\n",
    "    song_year = song['year']\n",
    "    song_features = spotify.audio_features(song_id)\n",
    "    song_features = song_features[0]\n",
    "    song_features['name'] = song_name\n",
    "    song_features['album'] = song_album\n",
    "    song_features['year'] = song_year\n",
    "    features.append(song_features)"
   ]
  },
  {
   "cell_type": "markdown",
   "metadata": {},
   "source": []
  },
  {
   "cell_type": "code",
   "execution_count": 3,
   "metadata": {},
   "outputs": [],
   "source": [
    "##Convert to dataframe\n",
    "import pandas as pd\n",
    "df = pd.DataFrame(features)"
   ]
  },
  {
   "cell_type": "code",
   "execution_count": 14,
   "metadata": {},
   "outputs": [],
   "source": [
    "#Save data to csv\n",
    "df.to_csv('../data/qotsa_data.csv', index=False)"
   ]
  },
  {
   "cell_type": "code",
   "execution_count": 10,
   "metadata": {},
   "outputs": [],
   "source": [
    "#Functions\n",
    "def get_song_features(birdy_uri):\n",
    "    results = spotify.artist_albums(birdy_uri, album_type='album')\n",
    "    albums = results['items']\n",
    "    songs = []\n",
    "    for album in albums:\n",
    "        album_id = album['id']\n",
    "        album_name = album['name']\n",
    "        album_year = album['release_date']\n",
    "        album_tracks = spotify.album_tracks(album_id)\n",
    "        for track in album_tracks['items']:\n",
    "            song = {}\n",
    "            song['name'] = track['name']\n",
    "            song['id'] = track['id']\n",
    "            song['album'] = album_name\n",
    "            song['year'] = album_year\n",
    "            songs.append(song)\n",
    "    \n",
    "    features = []\n",
    "    for song in songs:\n",
    "        song_id = song['id']\n",
    "        song_name = song['name']\n",
    "        song_album = song['album']\n",
    "        song_year = song['year']\n",
    "        song_features = spotify.audio_features(song_id)\n",
    "        song_features = song_features[0]\n",
    "        song_features['name'] = song_name\n",
    "        song_features['album'] = song_album\n",
    "        song_features['year'] = song_year\n",
    "        features.append(song_features)\n",
    "    \n",
    "    df = pd.DataFrame(features)\n",
    "    return df"
   ]
  },
  {
   "cell_type": "code",
   "execution_count": 17,
   "metadata": {},
   "outputs": [],
   "source": [
    "arctic_monkeys = 'spotify:artist:7Ln80lUS6He07XvHI8qqHH'\n",
    "\n",
    "df = get_song_features(arctic_monkeys)\n",
    "df.to_csv('../data/arctic_monkeys_data.csv', index=False)"
   ]
  },
  {
   "cell_type": "code",
   "execution_count": 19,
   "metadata": {},
   "outputs": [],
   "source": [
    "## One of my playlists\n",
    "playlist = '37i9dQZF1Epxaq9DHMRZ0u'\n",
    "#Extract audio features from songs\n",
    "playlist_tracks = spotify.playlist_tracks(playlist)\n",
    "playlist_songs = playlist_tracks['items']\n",
    "features = []\n",
    "for song in playlist_songs:\n",
    "    song_id = song['track']['id']\n",
    "    song_name = song['track']['name']\n",
    "    song_album = song['track']['album']['name']\n",
    "    song_year = song['track']['album']['release_date']\n",
    "    song_features = spotify.audio_features(song_id)\n",
    "    song_features = song_features[0]\n",
    "    song_features['name'] = song_name\n",
    "    song_features['album'] = song_album\n",
    "    song_features['year'] = song_year\n",
    "    features.append(song_features)\n",
    "##Convert to dataframe\n",
    "df = pd.DataFrame(features)\n",
    "df.to_csv('../data/playlist_most_replayed_data.csv', index=False)"
   ]
  },
  {
   "cell_type": "code",
   "execution_count": 22,
   "metadata": {},
   "outputs": [],
   "source": [
    "cerati = 'spotify:artist:1QOmebWGB6FdFtW7Bo3F0W'\n",
    "df = get_song_features(cerati)\n",
    "df.to_csv('../data/cerati_data.csv', index=False)"
   ]
  },
  {
   "cell_type": "code",
   "execution_count": 8,
   "metadata": {},
   "outputs": [],
   "source": [
    "playlist = '37i9dQZF1DZ06evO2Vr1qU'\n",
    "playlist_tracks = spotify.playlist_tracks(playlist)\n",
    "playlist_songs = playlist_tracks['items']\n",
    "features = []\n",
    "for song in playlist_songs:\n",
    "    song_id = song['track']['id']\n",
    "    song_name = song['track']['name']\n",
    "    song_album = song['track']['album']['name']\n",
    "    song_year = song['track']['album']['release_date']\n",
    "    song_features = spotify.audio_features(song_id)\n",
    "    song_features = song_features[0]\n",
    "    song_features['name'] = song_name\n",
    "    song_features['album'] = song_album\n",
    "    song_features['year'] = song_year\n",
    "    features.append(song_features)\n",
    "df = pd.DataFrame(features)\n",
    "df.to_csv('../data/elegante.csv', index=False)"
   ]
  },
  {
   "cell_type": "code",
   "execution_count": 11,
   "metadata": {},
   "outputs": [],
   "source": [
    "pink_floyd = 'spotify:artist:0k17h0D3J5VfsdmQ1iZtE9'\n",
    "villagran = 'spotify:artist:7j4EDoy89FLUbaeJuV1gNY'\n",
    "df = get_song_features(villagran)\n",
    "df.to_csv('../data/villagran.csv', index=False)"
   ]
  },
  {
   "cell_type": "code",
   "execution_count": null,
   "metadata": {},
   "outputs": [],
   "source": [
    "https://open.spotify.com/playlist/37i9dQZF1DZ06evO2Vr1qU?si=b1a2fe10bb0e464f"
   ]
  }
 ],
 "metadata": {
  "kernelspec": {
   "display_name": "Python 3.9.13 ('midterm-project')",
   "language": "python",
   "name": "python3"
  },
  "language_info": {
   "codemirror_mode": {
    "name": "ipython",
    "version": 3
   },
   "file_extension": ".py",
   "mimetype": "text/x-python",
   "name": "python",
   "nbconvert_exporter": "python",
   "pygments_lexer": "ipython3",
   "version": "3.9.13"
  },
  "orig_nbformat": 4,
  "vscode": {
   "interpreter": {
    "hash": "8aebcc6aceb2f8df23baaccf3bce3b91890222c2822d9b233d427534910dcde8"
   }
  }
 },
 "nbformat": 4,
 "nbformat_minor": 2
}
