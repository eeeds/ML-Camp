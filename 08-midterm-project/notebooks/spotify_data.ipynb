{
 "cells": [
  {
   "cell_type": "code",
   "execution_count": 1,
   "metadata": {},
   "outputs": [],
   "source": [
    "from matplotlib.font_manager import json_load\n",
    "import spotipy\n",
    "from spotipy.oauth2 import SpotifyClientCredentials\n",
    "import json \n",
    "import os \n",
    "\n",
    "os.environ['SPOTIPY_CLIENT_ID'] = json.load(open('../spotify_credentials.json'))['CLIENT_ID']\n",
    "os.environ['SPOTIPY_CLIENT_SECRET'] = json.load(open('../spotify_credentials.json'))['CLIENT_SECRET']\n",
    "\n",
    "birdy_uri = 'spotify:artist:4pejUc4iciQfgdX6OKulQn'\n",
    "spotify = spotipy.Spotify(client_credentials_manager=SpotifyClientCredentials())\n",
    "\n",
    "results = spotify.artist_albums(birdy_uri, album_type='album')\n",
    "albums = results['items']"
   ]
  },
  {
   "cell_type": "code",
   "execution_count": 8,
   "metadata": {},
   "outputs": [],
   "source": [
    "#Extract songs from each album\n",
    "songs = []\n",
    "for album in albums:\n",
    "    album_id = album['id']\n",
    "    album_name = album['name']\n",
    "    album_year = album['release_date']\n",
    "    album_tracks = spotify.album_tracks(album_id)\n",
    "    for track in album_tracks['items']:\n",
    "        song = {}\n",
    "        song['name'] = track['name']\n",
    "        song['id'] = track['id']\n",
    "        song['album'] = album_name\n",
    "        song['year'] = album_year\n",
    "        songs.append(song)"
   ]
  },
  {
   "cell_type": "code",
   "execution_count": 12,
   "metadata": {},
   "outputs": [],
   "source": [
    "# Extract audio features from songs\n",
    "features = []\n",
    "for song in songs:\n",
    "    song_id = song['id']\n",
    "    song_name = song['name']\n",
    "    song_album = song['album']\n",
    "    song_year = song['year']\n",
    "    song_features = spotify.audio_features(song_id)\n",
    "    song_features = song_features[0]\n",
    "    song_features['name'] = song_name\n",
    "    song_features['album'] = song_album\n",
    "    song_features['year'] = song_year\n",
    "    features.append(song_features)"
   ]
  },
  {
   "cell_type": "markdown",
   "metadata": {},
   "source": []
  },
  {
   "cell_type": "code",
   "execution_count": 3,
   "metadata": {},
   "outputs": [],
   "source": [
    "##Convert to dataframe\n",
    "import pandas as pd\n",
    "#df = pd.DataFrame(features)"
   ]
  },
  {
   "cell_type": "code",
   "execution_count": 14,
   "metadata": {},
   "outputs": [],
   "source": [
    "#Save data to csv\n",
    "df.to_csv('../data/qotsa_data.csv', index=False)"
   ]
  },
  {
   "cell_type": "code",
   "execution_count": 5,
   "metadata": {},
   "outputs": [],
   "source": [
    "#Functions\n",
    "def get_song_features(birdy_uri):\n",
    "    results = spotify.artist_albums(birdy_uri, album_type='album')\n",
    "    albums = results['items']\n",
    "    songs = []\n",
    "    for album in albums:\n",
    "        album_id = album['id']\n",
    "        album_name = album['name']\n",
    "        album_year = album['release_date']\n",
    "        album_tracks = spotify.album_tracks(album_id)\n",
    "        for track in album_tracks['items']:\n",
    "            song = {}\n",
    "            song['name'] = track['name']\n",
    "            song['id'] = track['id']\n",
    "            song['album'] = album_name\n",
    "            song['year'] = album_year\n",
    "            songs.append(song)\n",
    "    \n",
    "    features = []\n",
    "    for song in songs:\n",
    "        song_id = song['id']\n",
    "        song_name = song['name']\n",
    "        song_album = song['album']\n",
    "        song_year = song['year']\n",
    "        song_features = spotify.audio_features(song_id)\n",
    "        song_features = song_features[0]\n",
    "        song_features['name'] = song_name\n",
    "        song_features['album'] = song_album\n",
    "        song_features['year'] = song_year\n",
    "        features.append(song_features)\n",
    "    \n",
    "    df = pd.DataFrame(features)\n",
    "    return df"
   ]
  },
  {
   "cell_type": "code",
   "execution_count": 17,
   "metadata": {},
   "outputs": [],
   "source": [
    "arctic_monkeys = 'spotify:artist:7Ln80lUS6He07XvHI8qqHH'\n",
    "\n",
    "df = get_song_features(arctic_monkeys)\n",
    "df.to_csv('../data/arctic_monkeys_data.csv', index=False)"
   ]
  },
  {
   "cell_type": "code",
   "execution_count": 19,
   "metadata": {},
   "outputs": [],
   "source": [
    "## One of my playlists\n",
    "playlist = '37i9dQZF1Epxaq9DHMRZ0u'\n",
    "#Extract audio features from songs\n",
    "playlist_tracks = spotify.playlist_tracks(playlist)\n",
    "playlist_songs = playlist_tracks['items']\n",
    "features = []\n",
    "for song in playlist_songs:\n",
    "    song_id = song['track']['id']\n",
    "    song_name = song['track']['name']\n",
    "    song_album = song['track']['album']['name']\n",
    "    song_year = song['track']['album']['release_date']\n",
    "    song_features = spotify.audio_features(song_id)\n",
    "    song_features = song_features[0]\n",
    "    song_features['name'] = song_name\n",
    "    song_features['album'] = song_album\n",
    "    song_features['year'] = song_year\n",
    "    features.append(song_features)\n",
    "##Convert to dataframe\n",
    "df = pd.DataFrame(features)\n",
    "df.to_csv('../data/playlist_most_replayed_data.csv', index=False)"
   ]
  },
  {
   "cell_type": "code",
   "execution_count": 22,
   "metadata": {},
   "outputs": [],
   "source": [
    "cerati = 'spotify:artist:1QOmebWGB6FdFtW7Bo3F0W'\n",
    "df = get_song_features(cerati)\n",
    "df.to_csv('../data/cerati_data.csv', index=False)"
   ]
  },
  {
   "cell_type": "code",
   "execution_count": 9,
   "metadata": {},
   "outputs": [],
   "source": [
    "playlist = '37i9dQZF1DZ06evO2TweiY'\n",
    "playlist_tracks = spotify.playlist_tracks(playlist)\n",
    "playlist_songs = playlist_tracks['items']\n",
    "features = []\n",
    "for song in playlist_songs:\n",
    "    song_id = song['track']['id']\n",
    "    song_name = song['track']['name']\n",
    "    song_album = song['track']['album']['name']\n",
    "    song_year = song['track']['album']['release_date']\n",
    "    song_features = spotify.audio_features(song_id)\n",
    "    song_features = song_features[0]\n",
    "    song_features['name'] = song_name\n",
    "    song_features['album'] = song_album\n",
    "    song_features['year'] = song_year\n",
    "    features.append(song_features)\n",
    "df = pd.DataFrame(features)\n",
    "df.to_csv('../data/daddy_yankee.csv', index=False)"
   ]
  },
  {
   "cell_type": "code",
   "execution_count": 7,
   "metadata": {},
   "outputs": [
    {
     "name": "stderr",
     "output_type": "stream",
     "text": [
      "HTTP Error for GET to https://api.spotify.com/v1/artists/37i9dQZF1DZ06evO2TweiY/albums with Params: {'album_type': 'album', 'country': None, 'limit': 20, 'offset': 0} returned 404 due to non existing id\n"
     ]
    },
    {
     "ename": "SpotifyException",
     "evalue": "http status: 404, code:-1 - https://api.spotify.com/v1/artists/37i9dQZF1DZ06evO2TweiY/albums?album_type=album&limit=20&offset=0:\n non existing id, reason: None",
     "output_type": "error",
     "traceback": [
      "\u001b[1;31m---------------------------------------------------------------------------\u001b[0m",
      "\u001b[1;31mHTTPError\u001b[0m                                 Traceback (most recent call last)",
      "File \u001b[1;32mc:\\Users\\User\\anaconda3\\envs\\midterm-project\\lib\\site-packages\\spotipy\\client.py:245\u001b[0m, in \u001b[0;36mSpotify._internal_call\u001b[1;34m(self, method, url, payload, params)\u001b[0m\n\u001b[0;32m    240\u001b[0m response \u001b[39m=\u001b[39m \u001b[39mself\u001b[39m\u001b[39m.\u001b[39m_session\u001b[39m.\u001b[39mrequest(\n\u001b[0;32m    241\u001b[0m     method, url, headers\u001b[39m=\u001b[39mheaders, proxies\u001b[39m=\u001b[39m\u001b[39mself\u001b[39m\u001b[39m.\u001b[39mproxies,\n\u001b[0;32m    242\u001b[0m     timeout\u001b[39m=\u001b[39m\u001b[39mself\u001b[39m\u001b[39m.\u001b[39mrequests_timeout, \u001b[39m*\u001b[39m\u001b[39m*\u001b[39margs\n\u001b[0;32m    243\u001b[0m )\n\u001b[1;32m--> 245\u001b[0m response\u001b[39m.\u001b[39;49mraise_for_status()\n\u001b[0;32m    246\u001b[0m results \u001b[39m=\u001b[39m response\u001b[39m.\u001b[39mjson()\n",
      "File \u001b[1;32m~\\AppData\\Roaming\\Python\\Python39\\site-packages\\requests\\models.py:1021\u001b[0m, in \u001b[0;36mResponse.raise_for_status\u001b[1;34m(self)\u001b[0m\n\u001b[0;32m   1020\u001b[0m \u001b[39mif\u001b[39;00m http_error_msg:\n\u001b[1;32m-> 1021\u001b[0m     \u001b[39mraise\u001b[39;00m HTTPError(http_error_msg, response\u001b[39m=\u001b[39m\u001b[39mself\u001b[39m)\n",
      "\u001b[1;31mHTTPError\u001b[0m: 404 Client Error: Not Found for url: https://api.spotify.com/v1/artists/37i9dQZF1DZ06evO2TweiY/albums?album_type=album&limit=20&offset=0",
      "\nDuring handling of the above exception, another exception occurred:\n",
      "\u001b[1;31mSpotifyException\u001b[0m                          Traceback (most recent call last)",
      "\u001b[1;32mc:\\Users\\User\\Desktop\\Github\\ML-Camp\\08-midterm-project\\notebooks\\spotify_data.ipynb Celda 12\u001b[0m in \u001b[0;36m<cell line: 4>\u001b[1;34m()\u001b[0m\n\u001b[0;32m      <a href='vscode-notebook-cell:/c%3A/Users/User/Desktop/Github/ML-Camp/08-midterm-project/notebooks/spotify_data.ipynb#X14sZmlsZQ%3D%3D?line=1'>2</a>\u001b[0m villagran \u001b[39m=\u001b[39m \u001b[39m'\u001b[39m\u001b[39mspotify:artist:7j4EDoy89FLUbaeJuV1gNY\u001b[39m\u001b[39m'\u001b[39m\n\u001b[0;32m      <a href='vscode-notebook-cell:/c%3A/Users/User/Desktop/Github/ML-Camp/08-midterm-project/notebooks/spotify_data.ipynb#X14sZmlsZQ%3D%3D?line=2'>3</a>\u001b[0m bad_bunny \u001b[39m=\u001b[39m \u001b[39m'\u001b[39m\u001b[39mspotify:artist:37i9dQZF1DZ06evO2TweiY\u001b[39m\u001b[39m'\u001b[39m\n\u001b[1;32m----> <a href='vscode-notebook-cell:/c%3A/Users/User/Desktop/Github/ML-Camp/08-midterm-project/notebooks/spotify_data.ipynb#X14sZmlsZQ%3D%3D?line=3'>4</a>\u001b[0m df \u001b[39m=\u001b[39m get_song_features(bad_bunny)\n\u001b[0;32m      <a href='vscode-notebook-cell:/c%3A/Users/User/Desktop/Github/ML-Camp/08-midterm-project/notebooks/spotify_data.ipynb#X14sZmlsZQ%3D%3D?line=4'>5</a>\u001b[0m df\u001b[39m.\u001b[39mto_csv(\u001b[39m'\u001b[39m\u001b[39m../data/daddy_yankee.csv\u001b[39m\u001b[39m'\u001b[39m, index\u001b[39m=\u001b[39m\u001b[39mFalse\u001b[39;00m)\n",
      "\u001b[1;32mc:\\Users\\User\\Desktop\\Github\\ML-Camp\\08-midterm-project\\notebooks\\spotify_data.ipynb Celda 12\u001b[0m in \u001b[0;36mget_song_features\u001b[1;34m(birdy_uri)\u001b[0m\n\u001b[0;32m      <a href='vscode-notebook-cell:/c%3A/Users/User/Desktop/Github/ML-Camp/08-midterm-project/notebooks/spotify_data.ipynb#X14sZmlsZQ%3D%3D?line=1'>2</a>\u001b[0m \u001b[39mdef\u001b[39;00m \u001b[39mget_song_features\u001b[39m(birdy_uri):\n\u001b[1;32m----> <a href='vscode-notebook-cell:/c%3A/Users/User/Desktop/Github/ML-Camp/08-midterm-project/notebooks/spotify_data.ipynb#X14sZmlsZQ%3D%3D?line=2'>3</a>\u001b[0m     results \u001b[39m=\u001b[39m spotify\u001b[39m.\u001b[39;49martist_albums(birdy_uri, album_type\u001b[39m=\u001b[39;49m\u001b[39m'\u001b[39;49m\u001b[39malbum\u001b[39;49m\u001b[39m'\u001b[39;49m)\n\u001b[0;32m      <a href='vscode-notebook-cell:/c%3A/Users/User/Desktop/Github/ML-Camp/08-midterm-project/notebooks/spotify_data.ipynb#X14sZmlsZQ%3D%3D?line=3'>4</a>\u001b[0m     albums \u001b[39m=\u001b[39m results[\u001b[39m'\u001b[39m\u001b[39mitems\u001b[39m\u001b[39m'\u001b[39m]\n\u001b[0;32m      <a href='vscode-notebook-cell:/c%3A/Users/User/Desktop/Github/ML-Camp/08-midterm-project/notebooks/spotify_data.ipynb#X14sZmlsZQ%3D%3D?line=4'>5</a>\u001b[0m     songs \u001b[39m=\u001b[39m []\n",
      "File \u001b[1;32mc:\\Users\\User\\anaconda3\\envs\\midterm-project\\lib\\site-packages\\spotipy\\client.py:392\u001b[0m, in \u001b[0;36mSpotify.artist_albums\u001b[1;34m(self, artist_id, album_type, country, limit, offset)\u001b[0m\n\u001b[0;32m    381\u001b[0m \u001b[39m\"\"\" Get Spotify catalog information about an artist's albums\u001b[39;00m\n\u001b[0;32m    382\u001b[0m \n\u001b[0;32m    383\u001b[0m \u001b[39m    Parameters:\u001b[39;00m\n\u001b[1;32m   (...)\u001b[0m\n\u001b[0;32m    388\u001b[0m \u001b[39m        - offset - the index of the first album to return\u001b[39;00m\n\u001b[0;32m    389\u001b[0m \u001b[39m\"\"\"\u001b[39;00m\n\u001b[0;32m    391\u001b[0m trid \u001b[39m=\u001b[39m \u001b[39mself\u001b[39m\u001b[39m.\u001b[39m_get_id(\u001b[39m\"\u001b[39m\u001b[39martist\u001b[39m\u001b[39m\"\u001b[39m, artist_id)\n\u001b[1;32m--> 392\u001b[0m \u001b[39mreturn\u001b[39;00m \u001b[39mself\u001b[39;49m\u001b[39m.\u001b[39;49m_get(\n\u001b[0;32m    393\u001b[0m     \u001b[39m\"\u001b[39;49m\u001b[39martists/\u001b[39;49m\u001b[39m\"\u001b[39;49m \u001b[39m+\u001b[39;49m trid \u001b[39m+\u001b[39;49m \u001b[39m\"\u001b[39;49m\u001b[39m/albums\u001b[39;49m\u001b[39m\"\u001b[39;49m,\n\u001b[0;32m    394\u001b[0m     album_type\u001b[39m=\u001b[39;49malbum_type,\n\u001b[0;32m    395\u001b[0m     country\u001b[39m=\u001b[39;49mcountry,\n\u001b[0;32m    396\u001b[0m     limit\u001b[39m=\u001b[39;49mlimit,\n\u001b[0;32m    397\u001b[0m     offset\u001b[39m=\u001b[39;49moffset,\n\u001b[0;32m    398\u001b[0m )\n",
      "File \u001b[1;32mc:\\Users\\User\\anaconda3\\envs\\midterm-project\\lib\\site-packages\\spotipy\\client.py:297\u001b[0m, in \u001b[0;36mSpotify._get\u001b[1;34m(self, url, args, payload, **kwargs)\u001b[0m\n\u001b[0;32m    294\u001b[0m \u001b[39mif\u001b[39;00m args:\n\u001b[0;32m    295\u001b[0m     kwargs\u001b[39m.\u001b[39mupdate(args)\n\u001b[1;32m--> 297\u001b[0m \u001b[39mreturn\u001b[39;00m \u001b[39mself\u001b[39;49m\u001b[39m.\u001b[39;49m_internal_call(\u001b[39m\"\u001b[39;49m\u001b[39mGET\u001b[39;49m\u001b[39m\"\u001b[39;49m, url, payload, kwargs)\n",
      "File \u001b[1;32mc:\\Users\\User\\anaconda3\\envs\\midterm-project\\lib\\site-packages\\spotipy\\client.py:267\u001b[0m, in \u001b[0;36mSpotify._internal_call\u001b[1;34m(self, method, url, payload, params)\u001b[0m\n\u001b[0;32m    260\u001b[0m         reason \u001b[39m=\u001b[39m \u001b[39mNone\u001b[39;00m\n\u001b[0;32m    262\u001b[0m     logger\u001b[39m.\u001b[39merror(\n\u001b[0;32m    263\u001b[0m         \u001b[39m'\u001b[39m\u001b[39mHTTP Error for \u001b[39m\u001b[39m%s\u001b[39;00m\u001b[39m to \u001b[39m\u001b[39m%s\u001b[39;00m\u001b[39m with Params: \u001b[39m\u001b[39m%s\u001b[39;00m\u001b[39m returned \u001b[39m\u001b[39m%s\u001b[39;00m\u001b[39m due to \u001b[39m\u001b[39m%s\u001b[39;00m\u001b[39m'\u001b[39m,\n\u001b[0;32m    264\u001b[0m         method, url, args\u001b[39m.\u001b[39mget(\u001b[39m\"\u001b[39m\u001b[39mparams\u001b[39m\u001b[39m\"\u001b[39m), response\u001b[39m.\u001b[39mstatus_code, msg\n\u001b[0;32m    265\u001b[0m     )\n\u001b[1;32m--> 267\u001b[0m     \u001b[39mraise\u001b[39;00m SpotifyException(\n\u001b[0;32m    268\u001b[0m         response\u001b[39m.\u001b[39mstatus_code,\n\u001b[0;32m    269\u001b[0m         \u001b[39m-\u001b[39m\u001b[39m1\u001b[39m,\n\u001b[0;32m    270\u001b[0m         \u001b[39m\"\u001b[39m\u001b[39m%s\u001b[39;00m\u001b[39m:\u001b[39m\u001b[39m\\n\u001b[39;00m\u001b[39m \u001b[39m\u001b[39m%s\u001b[39;00m\u001b[39m\"\u001b[39m \u001b[39m%\u001b[39m (response\u001b[39m.\u001b[39murl, msg),\n\u001b[0;32m    271\u001b[0m         reason\u001b[39m=\u001b[39mreason,\n\u001b[0;32m    272\u001b[0m         headers\u001b[39m=\u001b[39mresponse\u001b[39m.\u001b[39mheaders,\n\u001b[0;32m    273\u001b[0m     )\n\u001b[0;32m    274\u001b[0m \u001b[39mexcept\u001b[39;00m requests\u001b[39m.\u001b[39mexceptions\u001b[39m.\u001b[39mRetryError \u001b[39mas\u001b[39;00m retry_error:\n\u001b[0;32m    275\u001b[0m     request \u001b[39m=\u001b[39m retry_error\u001b[39m.\u001b[39mrequest\n",
      "\u001b[1;31mSpotifyException\u001b[0m: http status: 404, code:-1 - https://api.spotify.com/v1/artists/37i9dQZF1DZ06evO2TweiY/albums?album_type=album&limit=20&offset=0:\n non existing id, reason: None"
     ]
    }
   ],
   "source": [
    "pink_floyd = 'spotify:artist:0k17h0D3J5VfsdmQ1iZtE9'\n",
    "villagran = 'spotify:artist:7j4EDoy89FLUbaeJuV1gNY'\n",
    "bad_bunny = 'spotify:artist:37i9dQZF1DZ06evO2TweiY'\n",
    "df = get_song_features(bad_bunny)\n",
    "df.to_csv('../data/daddy_yankee.csv', index=False)"
   ]
  },
  {
   "cell_type": "code",
   "execution_count": null,
   "metadata": {},
   "outputs": [],
   "source": [
    "https://open.spotify.com/playlist/37i9dQZF1DZ06evO2TweiY?si=b29183ff43734ad4"
   ]
  }
 ],
 "metadata": {
  "kernelspec": {
   "display_name": "Python 3.9.13 ('midterm-project')",
   "language": "python",
   "name": "python3"
  },
  "language_info": {
   "codemirror_mode": {
    "name": "ipython",
    "version": 3
   },
   "file_extension": ".py",
   "mimetype": "text/x-python",
   "name": "python",
   "nbconvert_exporter": "python",
   "pygments_lexer": "ipython3",
   "version": "3.9.13"
  },
  "orig_nbformat": 4,
  "vscode": {
   "interpreter": {
    "hash": "8aebcc6aceb2f8df23baaccf3bce3b91890222c2822d9b233d427534910dcde8"
   }
  }
 },
 "nbformat": 4,
 "nbformat_minor": 2
}
