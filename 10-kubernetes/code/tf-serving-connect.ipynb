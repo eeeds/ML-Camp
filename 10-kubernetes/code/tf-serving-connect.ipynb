{
 "cells": [
  {
   "cell_type": "code",
   "execution_count": 1,
   "id": "7a5e8837",
   "metadata": {},
   "outputs": [
    {
     "data": {
      "application/javascript": "IPython.notebook.set_autosave_interval(0)"
     },
     "metadata": {},
     "output_type": "display_data"
    },
    {
     "name": "stdout",
     "output_type": "stream",
     "text": [
      "Autosave disabled\n"
     ]
    }
   ],
   "source": [
    "%autosave 0"
   ]
  },
  {
   "cell_type": "code",
   "execution_count": 1,
   "id": "1588cca2",
   "metadata": {},
   "outputs": [
    {
     "name": "stdout",
     "output_type": "stream",
     "text": [
      "Collecting grpcio==1.42.0\n",
      "  Using cached grpcio-1.42.0-cp39-cp39-win_amd64.whl (3.3 MB)\n",
      "Collecting tensorflow-serving-api==2.7.0\n",
      "  Using cached tensorflow_serving_api-2.7.0-py2.py3-none-any.whl (37 kB)\n",
      "Requirement already satisfied: six>=1.5.2 in c:\\users\\user\\anaconda3\\envs\\kubernetes-lesson\\lib\\site-packages (from grpcio==1.42.0) (1.16.0)\n",
      "Requirement already satisfied: tensorflow<3,>=2.7.0 in c:\\users\\user\\anaconda3\\envs\\kubernetes-lesson\\lib\\site-packages (from tensorflow-serving-api==2.7.0) (2.11.0)\n",
      "Requirement already satisfied: protobuf>=3.6.0 in c:\\users\\user\\anaconda3\\envs\\kubernetes-lesson\\lib\\site-packages (from tensorflow-serving-api==2.7.0) (3.19.6)\n",
      "Requirement already satisfied: tensorflow-intel==2.11.0 in c:\\users\\user\\anaconda3\\envs\\kubernetes-lesson\\lib\\site-packages (from tensorflow<3,>=2.7.0->tensorflow-serving-api==2.7.0) (2.11.0)\n",
      "Requirement already satisfied: typing-extensions>=3.6.6 in c:\\users\\user\\anaconda3\\envs\\kubernetes-lesson\\lib\\site-packages (from tensorflow-intel==2.11.0->tensorflow<3,>=2.7.0->tensorflow-serving-api==2.7.0) (4.4.0)\n",
      "Requirement already satisfied: tensorflow-estimator<2.12,>=2.11.0 in c:\\users\\user\\anaconda3\\envs\\kubernetes-lesson\\lib\\site-packages (from tensorflow-intel==2.11.0->tensorflow<3,>=2.7.0->tensorflow-serving-api==2.7.0) (2.11.0)\n",
      "Requirement already satisfied: flatbuffers>=2.0 in c:\\users\\user\\anaconda3\\envs\\kubernetes-lesson\\lib\\site-packages (from tensorflow-intel==2.11.0->tensorflow<3,>=2.7.0->tensorflow-serving-api==2.7.0) (22.11.23)\n",
      "Requirement already satisfied: termcolor>=1.1.0 in c:\\users\\user\\anaconda3\\envs\\kubernetes-lesson\\lib\\site-packages (from tensorflow-intel==2.11.0->tensorflow<3,>=2.7.0->tensorflow-serving-api==2.7.0) (2.1.1)\n",
      "Requirement already satisfied: absl-py>=1.0.0 in c:\\users\\user\\anaconda3\\envs\\kubernetes-lesson\\lib\\site-packages (from tensorflow-intel==2.11.0->tensorflow<3,>=2.7.0->tensorflow-serving-api==2.7.0) (1.3.0)\n",
      "Requirement already satisfied: numpy>=1.20 in c:\\users\\user\\anaconda3\\envs\\kubernetes-lesson\\lib\\site-packages (from tensorflow-intel==2.11.0->tensorflow<3,>=2.7.0->tensorflow-serving-api==2.7.0) (1.23.5)\n",
      "Requirement already satisfied: google-pasta>=0.1.1 in c:\\users\\user\\anaconda3\\envs\\kubernetes-lesson\\lib\\site-packages (from tensorflow-intel==2.11.0->tensorflow<3,>=2.7.0->tensorflow-serving-api==2.7.0) (0.2.0)\n",
      "Requirement already satisfied: tensorboard<2.12,>=2.11 in c:\\users\\user\\anaconda3\\envs\\kubernetes-lesson\\lib\\site-packages (from tensorflow-intel==2.11.0->tensorflow<3,>=2.7.0->tensorflow-serving-api==2.7.0) (2.11.0)\n",
      "Requirement already satisfied: opt-einsum>=2.3.2 in c:\\users\\user\\anaconda3\\envs\\kubernetes-lesson\\lib\\site-packages (from tensorflow-intel==2.11.0->tensorflow<3,>=2.7.0->tensorflow-serving-api==2.7.0) (3.3.0)\n",
      "Requirement already satisfied: tensorflow-io-gcs-filesystem>=0.23.1 in c:\\users\\user\\anaconda3\\envs\\kubernetes-lesson\\lib\\site-packages (from tensorflow-intel==2.11.0->tensorflow<3,>=2.7.0->tensorflow-serving-api==2.7.0) (0.28.0)\n",
      "Requirement already satisfied: libclang>=13.0.0 in c:\\users\\user\\anaconda3\\envs\\kubernetes-lesson\\lib\\site-packages (from tensorflow-intel==2.11.0->tensorflow<3,>=2.7.0->tensorflow-serving-api==2.7.0) (14.0.6)\n",
      "Requirement already satisfied: keras<2.12,>=2.11.0 in c:\\users\\user\\anaconda3\\envs\\kubernetes-lesson\\lib\\site-packages (from tensorflow-intel==2.11.0->tensorflow<3,>=2.7.0->tensorflow-serving-api==2.7.0) (2.11.0)\n",
      "Requirement already satisfied: wrapt>=1.11.0 in c:\\users\\user\\anaconda3\\envs\\kubernetes-lesson\\lib\\site-packages (from tensorflow-intel==2.11.0->tensorflow<3,>=2.7.0->tensorflow-serving-api==2.7.0) (1.14.1)\n",
      "Requirement already satisfied: packaging in c:\\users\\user\\anaconda3\\envs\\kubernetes-lesson\\lib\\site-packages (from tensorflow-intel==2.11.0->tensorflow<3,>=2.7.0->tensorflow-serving-api==2.7.0) (21.3)\n",
      "Requirement already satisfied: astunparse>=1.6.0 in c:\\users\\user\\anaconda3\\envs\\kubernetes-lesson\\lib\\site-packages (from tensorflow-intel==2.11.0->tensorflow<3,>=2.7.0->tensorflow-serving-api==2.7.0) (1.6.3)\n",
      "Requirement already satisfied: gast<=0.4.0,>=0.2.1 in c:\\users\\user\\anaconda3\\envs\\kubernetes-lesson\\lib\\site-packages (from tensorflow-intel==2.11.0->tensorflow<3,>=2.7.0->tensorflow-serving-api==2.7.0) (0.4.0)\n",
      "Requirement already satisfied: h5py>=2.9.0 in c:\\users\\user\\anaconda3\\envs\\kubernetes-lesson\\lib\\site-packages (from tensorflow-intel==2.11.0->tensorflow<3,>=2.7.0->tensorflow-serving-api==2.7.0) (3.7.0)\n",
      "Requirement already satisfied: setuptools in c:\\users\\user\\anaconda3\\envs\\kubernetes-lesson\\lib\\site-packages (from tensorflow-intel==2.11.0->tensorflow<3,>=2.7.0->tensorflow-serving-api==2.7.0) (65.5.0)\n",
      "Requirement already satisfied: wheel<1.0,>=0.23.0 in c:\\users\\user\\anaconda3\\envs\\kubernetes-lesson\\lib\\site-packages (from astunparse>=1.6.0->tensorflow-intel==2.11.0->tensorflow<3,>=2.7.0->tensorflow-serving-api==2.7.0) (0.37.1)\n",
      "Requirement already satisfied: google-auth<3,>=1.6.3 in c:\\users\\user\\anaconda3\\envs\\kubernetes-lesson\\lib\\site-packages (from tensorboard<2.12,>=2.11->tensorflow-intel==2.11.0->tensorflow<3,>=2.7.0->tensorflow-serving-api==2.7.0) (2.14.1)\n",
      "Requirement already satisfied: requests<3,>=2.21.0 in c:\\users\\user\\appdata\\roaming\\python\\python39\\site-packages (from tensorboard<2.12,>=2.11->tensorflow-intel==2.11.0->tensorflow<3,>=2.7.0->tensorflow-serving-api==2.7.0) (2.28.1)\n",
      "Requirement already satisfied: werkzeug>=1.0.1 in c:\\users\\user\\appdata\\roaming\\python\\python39\\site-packages (from tensorboard<2.12,>=2.11->tensorflow-intel==2.11.0->tensorflow<3,>=2.7.0->tensorflow-serving-api==2.7.0) (2.2.1)\n",
      "Requirement already satisfied: tensorboard-plugin-wit>=1.6.0 in c:\\users\\user\\anaconda3\\envs\\kubernetes-lesson\\lib\\site-packages (from tensorboard<2.12,>=2.11->tensorflow-intel==2.11.0->tensorflow<3,>=2.7.0->tensorflow-serving-api==2.7.0) (1.8.1)\n",
      "Requirement already satisfied: markdown>=2.6.8 in c:\\users\\user\\anaconda3\\envs\\kubernetes-lesson\\lib\\site-packages (from tensorboard<2.12,>=2.11->tensorflow-intel==2.11.0->tensorflow<3,>=2.7.0->tensorflow-serving-api==2.7.0) (3.4.1)\n",
      "Requirement already satisfied: tensorboard-data-server<0.7.0,>=0.6.0 in c:\\users\\user\\anaconda3\\envs\\kubernetes-lesson\\lib\\site-packages (from tensorboard<2.12,>=2.11->tensorflow-intel==2.11.0->tensorflow<3,>=2.7.0->tensorflow-serving-api==2.7.0) (0.6.1)\n",
      "Requirement already satisfied: google-auth-oauthlib<0.5,>=0.4.1 in c:\\users\\user\\anaconda3\\envs\\kubernetes-lesson\\lib\\site-packages (from tensorboard<2.12,>=2.11->tensorflow-intel==2.11.0->tensorflow<3,>=2.7.0->tensorflow-serving-api==2.7.0) (0.4.6)\n",
      "Requirement already satisfied: pyparsing!=3.0.5,>=2.0.2 in c:\\users\\user\\anaconda3\\envs\\kubernetes-lesson\\lib\\site-packages (from packaging->tensorflow-intel==2.11.0->tensorflow<3,>=2.7.0->tensorflow-serving-api==2.7.0) (3.0.9)\n",
      "Requirement already satisfied: pyasn1-modules>=0.2.1 in c:\\users\\user\\anaconda3\\envs\\kubernetes-lesson\\lib\\site-packages (from google-auth<3,>=1.6.3->tensorboard<2.12,>=2.11->tensorflow-intel==2.11.0->tensorflow<3,>=2.7.0->tensorflow-serving-api==2.7.0) (0.2.8)\n",
      "Requirement already satisfied: rsa<5,>=3.1.4 in c:\\users\\user\\anaconda3\\envs\\kubernetes-lesson\\lib\\site-packages (from google-auth<3,>=1.6.3->tensorboard<2.12,>=2.11->tensorflow-intel==2.11.0->tensorflow<3,>=2.7.0->tensorflow-serving-api==2.7.0) (4.9)\n",
      "Requirement already satisfied: cachetools<6.0,>=2.0.0 in c:\\users\\user\\anaconda3\\envs\\kubernetes-lesson\\lib\\site-packages (from google-auth<3,>=1.6.3->tensorboard<2.12,>=2.11->tensorflow-intel==2.11.0->tensorflow<3,>=2.7.0->tensorflow-serving-api==2.7.0) (5.2.0)\n",
      "Requirement already satisfied: requests-oauthlib>=0.7.0 in c:\\users\\user\\anaconda3\\envs\\kubernetes-lesson\\lib\\site-packages (from google-auth-oauthlib<0.5,>=0.4.1->tensorboard<2.12,>=2.11->tensorflow-intel==2.11.0->tensorflow<3,>=2.7.0->tensorflow-serving-api==2.7.0) (1.3.1)\n",
      "Requirement already satisfied: importlib-metadata>=4.4 in c:\\users\\user\\appdata\\roaming\\python\\python39\\site-packages (from markdown>=2.6.8->tensorboard<2.12,>=2.11->tensorflow-intel==2.11.0->tensorflow<3,>=2.7.0->tensorflow-serving-api==2.7.0) (4.12.0)\n",
      "Requirement already satisfied: idna<4,>=2.5 in c:\\users\\user\\appdata\\roaming\\python\\python39\\site-packages (from requests<3,>=2.21.0->tensorboard<2.12,>=2.11->tensorflow-intel==2.11.0->tensorflow<3,>=2.7.0->tensorflow-serving-api==2.7.0) (3.3)\n",
      "Requirement already satisfied: certifi>=2017.4.17 in c:\\users\\user\\anaconda3\\envs\\kubernetes-lesson\\lib\\site-packages (from requests<3,>=2.21.0->tensorboard<2.12,>=2.11->tensorflow-intel==2.11.0->tensorflow<3,>=2.7.0->tensorflow-serving-api==2.7.0) (2022.9.24)\n",
      "Requirement already satisfied: charset-normalizer<3,>=2 in c:\\users\\user\\appdata\\roaming\\python\\python39\\site-packages (from requests<3,>=2.21.0->tensorboard<2.12,>=2.11->tensorflow-intel==2.11.0->tensorflow<3,>=2.7.0->tensorflow-serving-api==2.7.0) (2.1.0)\n",
      "Requirement already satisfied: urllib3<1.27,>=1.21.1 in c:\\users\\user\\appdata\\roaming\\python\\python39\\site-packages (from requests<3,>=2.21.0->tensorboard<2.12,>=2.11->tensorflow-intel==2.11.0->tensorflow<3,>=2.7.0->tensorflow-serving-api==2.7.0) (1.26.11)\n",
      "Requirement already satisfied: MarkupSafe>=2.1.1 in c:\\users\\user\\appdata\\roaming\\python\\python39\\site-packages (from werkzeug>=1.0.1->tensorboard<2.12,>=2.11->tensorflow-intel==2.11.0->tensorflow<3,>=2.7.0->tensorflow-serving-api==2.7.0) (2.1.1)\n",
      "Requirement already satisfied: zipp>=0.5 in c:\\users\\user\\appdata\\roaming\\python\\python39\\site-packages (from importlib-metadata>=4.4->markdown>=2.6.8->tensorboard<2.12,>=2.11->tensorflow-intel==2.11.0->tensorflow<3,>=2.7.0->tensorflow-serving-api==2.7.0) (3.8.1)\n",
      "Requirement already satisfied: pyasn1<0.5.0,>=0.4.6 in c:\\users\\user\\anaconda3\\envs\\kubernetes-lesson\\lib\\site-packages (from pyasn1-modules>=0.2.1->google-auth<3,>=1.6.3->tensorboard<2.12,>=2.11->tensorflow-intel==2.11.0->tensorflow<3,>=2.7.0->tensorflow-serving-api==2.7.0) (0.4.8)\n",
      "Requirement already satisfied: oauthlib>=3.0.0 in c:\\users\\user\\appdata\\roaming\\python\\python39\\site-packages (from requests-oauthlib>=0.7.0->google-auth-oauthlib<0.5,>=0.4.1->tensorboard<2.12,>=2.11->tensorflow-intel==2.11.0->tensorflow<3,>=2.7.0->tensorflow-serving-api==2.7.0) (3.2.0)\n",
      "Installing collected packages: grpcio, tensorflow-serving-api\n",
      "  Attempting uninstall: grpcio\n",
      "    Found existing installation: grpcio 1.50.0\n",
      "    Uninstalling grpcio-1.50.0:\n",
      "      Successfully uninstalled grpcio-1.50.0\n",
      "Successfully installed grpcio-1.42.0 tensorflow-serving-api-2.7.0\n"
     ]
    }
   ],
   "source": [
    "!pip install grpcio==1.42.0 tensorflow-serving-api==2.7.0"
   ]
  },
  {
   "cell_type": "code",
   "execution_count": 2,
   "id": "6e4788a2",
   "metadata": {},
   "outputs": [
    {
     "name": "stdout",
     "output_type": "stream",
     "text": [
      "Collecting keras-image-helper\n",
      "  Using cached keras_image_helper-0.0.1-py3-none-any.whl (4.6 kB)\n",
      "Requirement already satisfied: numpy in c:\\users\\user\\anaconda3\\envs\\kubernetes-lesson\\lib\\site-packages (from keras-image-helper) (1.23.5)\n",
      "Collecting pillow\n",
      "  Downloading Pillow-9.3.0-cp39-cp39-win_amd64.whl (2.5 MB)\n",
      "     ---------------------------------------- 2.5/2.5 MB 3.7 MB/s eta 0:00:00\n",
      "Installing collected packages: pillow, keras-image-helper\n",
      "Successfully installed keras-image-helper-0.0.1 pillow-9.3.0\n"
     ]
    }
   ],
   "source": [
    "!pip install keras-image-helper"
   ]
  },
  {
   "cell_type": "code",
   "execution_count": 3,
   "id": "78a456a7",
   "metadata": {},
   "outputs": [],
   "source": [
    "import grpc\n",
    "\n",
    "import tensorflow as tf\n",
    "\n",
    "from tensorflow_serving.apis import predict_pb2\n",
    "from tensorflow_serving.apis import prediction_service_pb2_grpc"
   ]
  },
  {
   "cell_type": "code",
   "execution_count": 17,
   "id": "e09c215c",
   "metadata": {},
   "outputs": [],
   "source": [
    "host = 'localhost:8500'\n",
    "\n",
    "channel = grpc.insecure_channel(host)\n",
    "\n",
    "stub = prediction_service_pb2_grpc.PredictionServiceStub(channel)"
   ]
  },
  {
   "cell_type": "code",
   "execution_count": 18,
   "id": "4fdffcc1",
   "metadata": {},
   "outputs": [],
   "source": [
    "from keras_image_helper import create_preprocessor"
   ]
  },
  {
   "cell_type": "code",
   "execution_count": 19,
   "id": "c77766e1",
   "metadata": {},
   "outputs": [],
   "source": [
    "preprocessor = create_preprocessor('xception', target_size=(299, 299))"
   ]
  },
  {
   "cell_type": "code",
   "execution_count": 20,
   "id": "aa686a62",
   "metadata": {},
   "outputs": [],
   "source": [
    "url = 'http://bit.ly/mlbookcamp-pants'\n",
    "X = preprocessor.from_url(url)"
   ]
  },
  {
   "cell_type": "code",
   "execution_count": 21,
   "id": "6e9810d1",
   "metadata": {},
   "outputs": [],
   "source": [
    "def np_to_protobuf(data):\n",
    "    return tf.make_tensor_proto(data, shape=data.shape)"
   ]
  },
  {
   "cell_type": "code",
   "execution_count": 22,
   "id": "3659a577",
   "metadata": {},
   "outputs": [],
   "source": [
    "pb_request = predict_pb2.PredictRequest()\n",
    "\n",
    "pb_request.model_spec.name = 'clothing-model'\n",
    "pb_request.model_spec.signature_name = 'serving_default'\n",
    "\n",
    "pb_request.inputs['input_8'].CopyFrom(np_to_protobuf(X))"
   ]
  },
  {
   "cell_type": "code",
   "execution_count": 23,
   "id": "6823df3d",
   "metadata": {},
   "outputs": [],
   "source": [
    "pb_response = stub.Predict(pb_request, timeout=50.0)"
   ]
  },
  {
   "cell_type": "code",
   "execution_count": 24,
   "id": "f0dece29",
   "metadata": {},
   "outputs": [],
   "source": [
    "preds = pb_response.outputs['dense_7'].float_val"
   ]
  },
  {
   "cell_type": "code",
   "execution_count": 25,
   "id": "f5b392f3",
   "metadata": {},
   "outputs": [],
   "source": [
    "classes = [\n",
    "    'dress',\n",
    "    'hat',\n",
    "    'longsleeve',\n",
    "    'outwear',\n",
    "    'pants',\n",
    "    'shirt',\n",
    "    'shoes',\n",
    "    'shorts',\n",
    "    'skirt',\n",
    "    't-shirt'\n",
    "]"
   ]
  },
  {
   "cell_type": "code",
   "execution_count": 26,
   "id": "a77fb533",
   "metadata": {},
   "outputs": [
    {
     "data": {
      "text/plain": [
       "{'dress': -1.87986421585083,\n",
       " 'hat': -4.756310939788818,\n",
       " 'longsleeve': -2.359532356262207,\n",
       " 'outwear': -1.08926522731781,\n",
       " 'pants': 9.903783798217773,\n",
       " 'shirt': -2.826178789138794,\n",
       " 'shoes': -3.648310899734497,\n",
       " 'shorts': 3.241154670715332,\n",
       " 'skirt': -2.6120948791503906,\n",
       " 't-shirt': -4.852035045623779}"
      ]
     },
     "execution_count": 26,
     "metadata": {},
     "output_type": "execute_result"
    }
   ],
   "source": [
    "dict(zip(classes, preds))"
   ]
  },
  {
   "cell_type": "code",
   "execution_count": null,
   "id": "588ccdc9",
   "metadata": {},
   "outputs": [],
   "source": []
  }
 ],
 "metadata": {
  "kernelspec": {
   "display_name": "Python 3.9.15 ('kubernetes-lesson')",
   "language": "python",
   "name": "python3"
  },
  "language_info": {
   "codemirror_mode": {
    "name": "ipython",
    "version": 3
   },
   "file_extension": ".py",
   "mimetype": "text/x-python",
   "name": "python",
   "nbconvert_exporter": "python",
   "pygments_lexer": "ipython3",
   "version": "3.9.15"
  },
  "vscode": {
   "interpreter": {
    "hash": "86570e4ffe1c6071257ef8ec196a2ac6d634245f478ae761e841b76169548c79"
   }
  }
 },
 "nbformat": 4,
 "nbformat_minor": 5
}
